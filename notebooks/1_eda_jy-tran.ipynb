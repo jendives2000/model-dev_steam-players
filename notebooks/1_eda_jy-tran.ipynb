{
 "cells": [
  {
   "cell_type": "code",
   "execution_count": 1,
   "metadata": {},
   "outputs": [
    {
     "name": "stdout",
     "output_type": "stream",
     "text": [
      "<class 'pandas.core.frame.DataFrame'>\n",
      "RangeIndex: 131195 entries, 0 to 131194\n",
      "Data columns (total 16 columns):\n",
      " #   Column                    Non-Null Count   Dtype  \n",
      "---  ------                    --------------   -----  \n",
      " 0   steamid                   131195 non-null  int64  \n",
      " 1   personaname               131194 non-null  object \n",
      " 2   profileurl                131195 non-null  object \n",
      " 3   avatar                    131195 non-null  object \n",
      " 4   avatarmedium              131195 non-null  object \n",
      " 5   avatarfull                131195 non-null  object \n",
      " 6   communityvisibilitystate  131195 non-null  int64  \n",
      " 7   personastate              131195 non-null  int64  \n",
      " 8   lastlogoff                0 non-null       float64\n",
      " 9   commentpermission         10608 non-null   float64\n",
      " 10  realname                  18420 non-null   object \n",
      " 11  primaryclanid             131195 non-null  int64  \n",
      " 12  timecreated               131195 non-null  int64  \n",
      " 13  loccountrycode            20745 non-null   object \n",
      " 14  locstatecode              12077 non-null   object \n",
      " 15  loccityid                 7194 non-null    float64\n",
      "dtypes: float64(3), int64(5), object(8)\n",
      "memory usage: 16.0+ MB\n"
     ]
    }
   ],
   "source": [
    "import pandas as pd\n",
    "\n",
    "# Load the CSV file into a DataFrame\n",
    "df = pd.read_csv(\"../data_in/public_profiles.csv\")\n",
    "\n",
    "# Display the first few rows of the DataFrame\n",
    "df.info()"
   ]
  },
  {
   "cell_type": "code",
   "execution_count": 2,
   "metadata": {},
   "outputs": [
    {
     "data": {
      "text/plain": [
       "Index(['steamid', 'personaname', 'profileurl', 'avatar', 'avatarmedium',\n",
       "       'avatarfull', 'communityvisibilitystate', 'personastate', 'lastlogoff',\n",
       "       'commentpermission', 'realname', 'primaryclanid', 'timecreated',\n",
       "       'loccountrycode', 'locstatecode', 'loccityid'],\n",
       "      dtype='object')"
      ]
     },
     "execution_count": 2,
     "metadata": {},
     "output_type": "execute_result"
    }
   ],
   "source": [
    "df.columns"
   ]
  },
  {
   "cell_type": "code",
   "execution_count": null,
   "metadata": {},
   "outputs": [],
   "source": []
  }
 ],
 "metadata": {
  "kernelspec": {
   "display_name": "preprocessing-wls2",
   "language": "python",
   "name": "python3"
  },
  "language_info": {
   "codemirror_mode": {
    "name": "ipython",
    "version": 3
   },
   "file_extension": ".py",
   "mimetype": "text/x-python",
   "name": "python",
   "nbconvert_exporter": "python",
   "pygments_lexer": "ipython3",
   "version": "3.12.8"
  }
 },
 "nbformat": 4,
 "nbformat_minor": 2
}
