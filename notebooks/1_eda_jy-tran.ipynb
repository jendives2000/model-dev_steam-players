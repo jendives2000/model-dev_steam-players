{
 "cells": [
  {
   "cell_type": "code",
   "execution_count": 1,
   "metadata": {},
   "outputs": [
    {
     "name": "stdout",
     "output_type": "stream",
     "text": [
      "<class 'pandas.core.frame.DataFrame'>\n",
      "RangeIndex: 146951 entries, 0 to 146950\n",
      "Data columns (total 16 columns):\n",
      " #   Column                    Non-Null Count   Dtype  \n",
      "---  ------                    --------------   -----  \n",
      " 0   steamid                   146951 non-null  int64  \n",
      " 1   personaname               146949 non-null  object \n",
      " 2   profileurl                146951 non-null  object \n",
      " 3   avatar                    146951 non-null  object \n",
      " 4   avatarmedium              146951 non-null  object \n",
      " 5   avatarfull                146951 non-null  object \n",
      " 6   communityvisibilitystate  146951 non-null  int64  \n",
      " 7   personastate              146951 non-null  int64  \n",
      " 8   lastlogoff                0 non-null       float64\n",
      " 9   commentpermission         11885 non-null   float64\n",
      " 10  realname                  20487 non-null   object \n",
      " 11  primaryclanid             146951 non-null  int64  \n",
      " 12  timecreated               146951 non-null  int64  \n",
      " 13  loccountrycode            23073 non-null   object \n",
      " 14  locstatecode              13485 non-null   object \n",
      " 15  loccityid                 8006 non-null    float64\n",
      "dtypes: float64(3), int64(5), object(8)\n",
      "memory usage: 17.9+ MB\n"
     ]
    }
   ],
   "source": [
    "import pandas as pd\n",
    "\n",
    "# Load the CSV file into a DataFrame\n",
    "df = pd.read_csv(\"../data_in/public_profiles.csv\")\n",
    "\n",
    "# Display the first few rows of the DataFrame\n",
    "df.info()"
   ]
  },
  {
   "cell_type": "code",
   "execution_count": 2,
   "metadata": {},
   "outputs": [
    {
     "name": "stdout",
     "output_type": "stream",
     "text": [
      "Number of duplicate rows: 0\n"
     ]
    }
   ],
   "source": [
    "duplicates = df.duplicated()\n",
    "print(f\"Number of duplicate rows: {duplicates.sum()}\")"
   ]
  },
  {
   "cell_type": "code",
   "execution_count": 3,
   "metadata": {},
   "outputs": [
    {
     "data": {
      "text/plain": [
       "Index(['steamid', 'personaname', 'profileurl', 'avatar', 'avatarmedium',\n",
       "       'avatarfull', 'communityvisibilitystate', 'personastate', 'lastlogoff',\n",
       "       'commentpermission', 'realname', 'primaryclanid', 'timecreated',\n",
       "       'loccountrycode', 'locstatecode', 'loccityid'],\n",
       "      dtype='object')"
      ]
     },
     "execution_count": 3,
     "metadata": {},
     "output_type": "execute_result"
    }
   ],
   "source": [
    "df.columns"
   ]
  },
  {
   "cell_type": "code",
   "execution_count": 4,
   "metadata": {},
   "outputs": [
    {
     "data": {
      "text/html": [
       "<div>\n",
       "<style scoped>\n",
       "    .dataframe tbody tr th:only-of-type {\n",
       "        vertical-align: middle;\n",
       "    }\n",
       "\n",
       "    .dataframe tbody tr th {\n",
       "        vertical-align: top;\n",
       "    }\n",
       "\n",
       "    .dataframe thead th {\n",
       "        text-align: right;\n",
       "    }\n",
       "</style>\n",
       "<table border=\"1\" class=\"dataframe\">\n",
       "  <thead>\n",
       "    <tr style=\"text-align: right;\">\n",
       "      <th></th>\n",
       "      <th>loccountrycode</th>\n",
       "      <th>locstatecode</th>\n",
       "      <th>loccityid</th>\n",
       "    </tr>\n",
       "  </thead>\n",
       "  <tbody>\n",
       "    <tr>\n",
       "      <th>1</th>\n",
       "      <td>ZA</td>\n",
       "      <td>11</td>\n",
       "      <td>46719.0</td>\n",
       "    </tr>\n",
       "    <tr>\n",
       "      <th>49</th>\n",
       "      <td>DE</td>\n",
       "      <td>02</td>\n",
       "      <td>13719.0</td>\n",
       "    </tr>\n",
       "    <tr>\n",
       "      <th>51</th>\n",
       "      <td>US</td>\n",
       "      <td>FL</td>\n",
       "      <td>849.0</td>\n",
       "    </tr>\n",
       "    <tr>\n",
       "      <th>58</th>\n",
       "      <td>IT</td>\n",
       "      <td>09</td>\n",
       "      <td>24650.0</td>\n",
       "    </tr>\n",
       "    <tr>\n",
       "      <th>74</th>\n",
       "      <td>PL</td>\n",
       "      <td>67</td>\n",
       "      <td>36018.0</td>\n",
       "    </tr>\n",
       "    <tr>\n",
       "      <th>99</th>\n",
       "      <td>DE</td>\n",
       "      <td>01</td>\n",
       "      <td>13275.0</td>\n",
       "    </tr>\n",
       "    <tr>\n",
       "      <th>101</th>\n",
       "      <td>RU</td>\n",
       "      <td>66</td>\n",
       "      <td>42316.0</td>\n",
       "    </tr>\n",
       "    <tr>\n",
       "      <th>104</th>\n",
       "      <td>GB</td>\n",
       "      <td>J6</td>\n",
       "      <td>16565.0</td>\n",
       "    </tr>\n",
       "    <tr>\n",
       "      <th>112</th>\n",
       "      <td>US</td>\n",
       "      <td>TX</td>\n",
       "      <td>3752.0</td>\n",
       "    </tr>\n",
       "    <tr>\n",
       "      <th>135</th>\n",
       "      <td>GB</td>\n",
       "      <td>J7</td>\n",
       "      <td>16843.0</td>\n",
       "    </tr>\n",
       "    <tr>\n",
       "      <th>144</th>\n",
       "      <td>RU</td>\n",
       "      <td>10</td>\n",
       "      <td>39936.0</td>\n",
       "    </tr>\n",
       "    <tr>\n",
       "      <th>186</th>\n",
       "      <td>DE</td>\n",
       "      <td>07</td>\n",
       "      <td>12661.0</td>\n",
       "    </tr>\n",
       "    <tr>\n",
       "      <th>200</th>\n",
       "      <td>CA</td>\n",
       "      <td>SK</td>\n",
       "      <td>4740.0</td>\n",
       "    </tr>\n",
       "    <tr>\n",
       "      <th>210</th>\n",
       "      <td>KR</td>\n",
       "      <td>11</td>\n",
       "      <td>26400.0</td>\n",
       "    </tr>\n",
       "    <tr>\n",
       "      <th>267</th>\n",
       "      <td>RU</td>\n",
       "      <td>45</td>\n",
       "      <td>41360.0</td>\n",
       "    </tr>\n",
       "    <tr>\n",
       "      <th>272</th>\n",
       "      <td>FR</td>\n",
       "      <td>B1</td>\n",
       "      <td>16006.0</td>\n",
       "    </tr>\n",
       "    <tr>\n",
       "      <th>273</th>\n",
       "      <td>CA</td>\n",
       "      <td>ON</td>\n",
       "      <td>4816.0</td>\n",
       "    </tr>\n",
       "    <tr>\n",
       "      <th>275</th>\n",
       "      <td>BR</td>\n",
       "      <td>26</td>\n",
       "      <td>8083.0</td>\n",
       "    </tr>\n",
       "    <tr>\n",
       "      <th>289</th>\n",
       "      <td>PT</td>\n",
       "      <td>17</td>\n",
       "      <td>36252.0</td>\n",
       "    </tr>\n",
       "    <tr>\n",
       "      <th>292</th>\n",
       "      <td>RO</td>\n",
       "      <td>13</td>\n",
       "      <td>38668.0</td>\n",
       "    </tr>\n",
       "  </tbody>\n",
       "</table>\n",
       "</div>"
      ],
      "text/plain": [
       "    loccountrycode locstatecode  loccityid\n",
       "1               ZA           11    46719.0\n",
       "49              DE           02    13719.0\n",
       "51              US           FL      849.0\n",
       "58              IT           09    24650.0\n",
       "74              PL           67    36018.0\n",
       "99              DE           01    13275.0\n",
       "101             RU           66    42316.0\n",
       "104             GB           J6    16565.0\n",
       "112             US           TX     3752.0\n",
       "135             GB           J7    16843.0\n",
       "144             RU           10    39936.0\n",
       "186             DE           07    12661.0\n",
       "200             CA           SK     4740.0\n",
       "210             KR           11    26400.0\n",
       "267             RU           45    41360.0\n",
       "272             FR           B1    16006.0\n",
       "273             CA           ON     4816.0\n",
       "275             BR           26     8083.0\n",
       "289             PT           17    36252.0\n",
       "292             RO           13    38668.0"
      ]
     },
     "execution_count": 4,
     "metadata": {},
     "output_type": "execute_result"
    }
   ],
   "source": [
    "filtered_df = df.dropna(subset=['loccountrycode', 'locstatecode', 'loccityid'])\n",
    "filtered_df[['loccountrycode', 'locstatecode', 'loccityid']].head(20)"
   ]
  },
  {
   "cell_type": "code",
   "execution_count": 5,
   "metadata": {},
   "outputs": [
    {
     "name": "stdout",
     "output_type": "stream",
     "text": [
      "steamid                     8019\n",
      "personaname                 7962\n",
      "profileurl                  8019\n",
      "avatar                      5943\n",
      "avatarmedium                5943\n",
      "avatarfull                  5943\n",
      "communityvisibilitystate       1\n",
      "personastate                   4\n",
      "lastlogoff                     0\n",
      "commentpermission              2\n",
      "realname                    4621\n",
      "primaryclanid               3080\n",
      "timecreated                 7966\n",
      "loccountrycode               119\n",
      "locstatecode                 271\n",
      "loccityid                   3596\n",
      "dtype: int64\n"
     ]
    },
    {
     "data": {
      "text/plain": [
       "loccountrycode     229\n",
       "locstatecode       317\n",
       "loccityid         3596\n",
       "dtype: int64"
      ]
     },
     "execution_count": 5,
     "metadata": {},
     "output_type": "execute_result"
    }
   ],
   "source": [
    "# Count unique values for each column\n",
    "unique_counts = filtered_df.nunique()\n",
    "print(unique_counts)\n",
    "\n",
    "df[['loccountrycode', 'locstatecode', 'loccityid']].nunique()"
   ]
  },
  {
   "cell_type": "code",
   "execution_count": null,
   "metadata": {},
   "outputs": [],
   "source": []
  }
 ],
 "metadata": {
  "kernelspec": {
   "display_name": "preprocessing-wls2",
   "language": "python",
   "name": "python3"
  },
  "language_info": {
   "codemirror_mode": {
    "name": "ipython",
    "version": 3
   },
   "file_extension": ".py",
   "mimetype": "text/x-python",
   "name": "python",
   "nbconvert_exporter": "python",
   "pygments_lexer": "ipython3",
   "version": "3.12.8"
  }
 },
 "nbformat": 4,
 "nbformat_minor": 2
}
