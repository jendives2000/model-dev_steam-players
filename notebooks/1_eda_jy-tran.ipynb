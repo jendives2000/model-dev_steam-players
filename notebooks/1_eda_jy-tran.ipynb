{
 "cells": [
  {
   "cell_type": "code",
   "execution_count": 1,
   "metadata": {},
   "outputs": [
    {
     "name": "stdout",
     "output_type": "stream",
     "text": [
      "<class 'pandas.core.frame.DataFrame'>\n",
      "RangeIndex: 264429 entries, 0 to 264428\n",
      "Data columns (total 16 columns):\n",
      " #   Column                    Non-Null Count   Dtype  \n",
      "---  ------                    --------------   -----  \n",
      " 0   steamid                   264429 non-null  int64  \n",
      " 1   personaname               264427 non-null  object \n",
      " 2   profileurl                264429 non-null  object \n",
      " 3   avatar                    264429 non-null  object \n",
      " 4   avatarmedium              264429 non-null  object \n",
      " 5   avatarfull                264429 non-null  object \n",
      " 6   communityvisibilitystate  264429 non-null  int64  \n",
      " 7   personastate              264429 non-null  int64  \n",
      " 8   lastlogoff                0 non-null       float64\n",
      " 9   commentpermission         21404 non-null   float64\n",
      " 10  realname                  37199 non-null   object \n",
      " 11  primaryclanid             264429 non-null  int64  \n",
      " 12  timecreated               264429 non-null  int64  \n",
      " 13  loccountrycode            41885 non-null   object \n",
      " 14  locstatecode              24464 non-null   object \n",
      " 15  loccityid                 14534 non-null   float64\n",
      "dtypes: float64(3), int64(5), object(8)\n",
      "memory usage: 32.3+ MB\n"
     ]
    }
   ],
   "source": [
    "import pandas as pd\n",
    "\n",
    "# Load the CSV file into a DataFrame\n",
    "df = pd.read_csv(\"../data_in/public_profiles.csv\")\n",
    "\n",
    "# Display the first few rows of the DataFrame\n",
    "df.info()"
   ]
  },
  {
   "cell_type": "code",
   "execution_count": 2,
   "metadata": {},
   "outputs": [
    {
     "name": "stdout",
     "output_type": "stream",
     "text": [
      "Number of duplicate rows: 115301\n"
     ]
    }
   ],
   "source": [
    "duplicates = df.duplicated()\n",
    "print(f\"Number of duplicate rows: {duplicates.sum()}\")"
   ]
  },
  {
   "cell_type": "code",
   "execution_count": 3,
   "metadata": {},
   "outputs": [
    {
     "data": {
      "text/plain": [
       "Index(['steamid', 'personaname', 'profileurl', 'avatar', 'avatarmedium',\n",
       "       'avatarfull', 'communityvisibilitystate', 'personastate', 'lastlogoff',\n",
       "       'commentpermission', 'realname', 'primaryclanid', 'timecreated',\n",
       "       'loccountrycode', 'locstatecode', 'loccityid'],\n",
       "      dtype='object')"
      ]
     },
     "execution_count": 3,
     "metadata": {},
     "output_type": "execute_result"
    }
   ],
   "source": [
    "df.columns"
   ]
  },
  {
   "cell_type": "code",
   "execution_count": 4,
   "metadata": {},
   "outputs": [
    {
     "data": {
      "text/html": [
       "<div>\n",
       "<style scoped>\n",
       "    .dataframe tbody tr th:only-of-type {\n",
       "        vertical-align: middle;\n",
       "    }\n",
       "\n",
       "    .dataframe tbody tr th {\n",
       "        vertical-align: top;\n",
       "    }\n",
       "\n",
       "    .dataframe thead th {\n",
       "        text-align: right;\n",
       "    }\n",
       "</style>\n",
       "<table border=\"1\" class=\"dataframe\">\n",
       "  <thead>\n",
       "    <tr style=\"text-align: right;\">\n",
       "      <th></th>\n",
       "      <th>loccountrycode</th>\n",
       "      <th>locstatecode</th>\n",
       "      <th>loccityid</th>\n",
       "    </tr>\n",
       "  </thead>\n",
       "  <tbody>\n",
       "    <tr>\n",
       "      <th>1</th>\n",
       "      <td>ZA</td>\n",
       "      <td>11</td>\n",
       "      <td>46719.0</td>\n",
       "    </tr>\n",
       "    <tr>\n",
       "      <th>49</th>\n",
       "      <td>DE</td>\n",
       "      <td>02</td>\n",
       "      <td>13719.0</td>\n",
       "    </tr>\n",
       "    <tr>\n",
       "      <th>51</th>\n",
       "      <td>US</td>\n",
       "      <td>FL</td>\n",
       "      <td>849.0</td>\n",
       "    </tr>\n",
       "    <tr>\n",
       "      <th>58</th>\n",
       "      <td>IT</td>\n",
       "      <td>09</td>\n",
       "      <td>24650.0</td>\n",
       "    </tr>\n",
       "    <tr>\n",
       "      <th>74</th>\n",
       "      <td>PL</td>\n",
       "      <td>67</td>\n",
       "      <td>36018.0</td>\n",
       "    </tr>\n",
       "    <tr>\n",
       "      <th>99</th>\n",
       "      <td>DE</td>\n",
       "      <td>01</td>\n",
       "      <td>13275.0</td>\n",
       "    </tr>\n",
       "    <tr>\n",
       "      <th>101</th>\n",
       "      <td>RU</td>\n",
       "      <td>66</td>\n",
       "      <td>42316.0</td>\n",
       "    </tr>\n",
       "    <tr>\n",
       "      <th>104</th>\n",
       "      <td>GB</td>\n",
       "      <td>J6</td>\n",
       "      <td>16565.0</td>\n",
       "    </tr>\n",
       "    <tr>\n",
       "      <th>112</th>\n",
       "      <td>US</td>\n",
       "      <td>TX</td>\n",
       "      <td>3752.0</td>\n",
       "    </tr>\n",
       "    <tr>\n",
       "      <th>135</th>\n",
       "      <td>GB</td>\n",
       "      <td>J7</td>\n",
       "      <td>16843.0</td>\n",
       "    </tr>\n",
       "    <tr>\n",
       "      <th>144</th>\n",
       "      <td>RU</td>\n",
       "      <td>10</td>\n",
       "      <td>39936.0</td>\n",
       "    </tr>\n",
       "    <tr>\n",
       "      <th>205</th>\n",
       "      <td>ZA</td>\n",
       "      <td>11</td>\n",
       "      <td>46719.0</td>\n",
       "    </tr>\n",
       "    <tr>\n",
       "      <th>219</th>\n",
       "      <td>US</td>\n",
       "      <td>FL</td>\n",
       "      <td>849.0</td>\n",
       "    </tr>\n",
       "    <tr>\n",
       "      <th>226</th>\n",
       "      <td>DE</td>\n",
       "      <td>02</td>\n",
       "      <td>13719.0</td>\n",
       "    </tr>\n",
       "    <tr>\n",
       "      <th>253</th>\n",
       "      <td>PL</td>\n",
       "      <td>67</td>\n",
       "      <td>36018.0</td>\n",
       "    </tr>\n",
       "    <tr>\n",
       "      <th>257</th>\n",
       "      <td>IT</td>\n",
       "      <td>09</td>\n",
       "      <td>24650.0</td>\n",
       "    </tr>\n",
       "    <tr>\n",
       "      <th>267</th>\n",
       "      <td>RU</td>\n",
       "      <td>66</td>\n",
       "      <td>42316.0</td>\n",
       "    </tr>\n",
       "    <tr>\n",
       "      <th>275</th>\n",
       "      <td>GB</td>\n",
       "      <td>J7</td>\n",
       "      <td>16843.0</td>\n",
       "    </tr>\n",
       "    <tr>\n",
       "      <th>299</th>\n",
       "      <td>GB</td>\n",
       "      <td>J6</td>\n",
       "      <td>16565.0</td>\n",
       "    </tr>\n",
       "    <tr>\n",
       "      <th>310</th>\n",
       "      <td>US</td>\n",
       "      <td>TX</td>\n",
       "      <td>3752.0</td>\n",
       "    </tr>\n",
       "  </tbody>\n",
       "</table>\n",
       "</div>"
      ],
      "text/plain": [
       "    loccountrycode locstatecode  loccityid\n",
       "1               ZA           11    46719.0\n",
       "49              DE           02    13719.0\n",
       "51              US           FL      849.0\n",
       "58              IT           09    24650.0\n",
       "74              PL           67    36018.0\n",
       "99              DE           01    13275.0\n",
       "101             RU           66    42316.0\n",
       "104             GB           J6    16565.0\n",
       "112             US           TX     3752.0\n",
       "135             GB           J7    16843.0\n",
       "144             RU           10    39936.0\n",
       "205             ZA           11    46719.0\n",
       "219             US           FL      849.0\n",
       "226             DE           02    13719.0\n",
       "253             PL           67    36018.0\n",
       "257             IT           09    24650.0\n",
       "267             RU           66    42316.0\n",
       "275             GB           J7    16843.0\n",
       "299             GB           J6    16565.0\n",
       "310             US           TX     3752.0"
      ]
     },
     "execution_count": 4,
     "metadata": {},
     "output_type": "execute_result"
    }
   ],
   "source": [
    "filtered_df = df.dropna(subset=['loccountrycode', 'locstatecode', 'loccityid'])\n",
    "filtered_df[['loccountrycode', 'locstatecode', 'loccityid']].head(20)"
   ]
  },
  {
   "cell_type": "code",
   "execution_count": 5,
   "metadata": {},
   "outputs": [
    {
     "name": "stdout",
     "output_type": "stream",
     "text": [
      "steamid                     8002\n",
      "personaname                 7947\n",
      "profileurl                  8002\n",
      "avatar                      5933\n",
      "avatarmedium                5933\n",
      "avatarfull                  5933\n",
      "communityvisibilitystate       1\n",
      "personastate                   4\n",
      "lastlogoff                     0\n",
      "commentpermission              2\n",
      "realname                    4611\n",
      "primaryclanid               3073\n",
      "timecreated                 7949\n",
      "loccountrycode               119\n",
      "locstatecode                 271\n",
      "loccityid                   3591\n",
      "dtype: int64\n"
     ]
    },
    {
     "data": {
      "text/plain": [
       "loccountrycode     229\n",
       "locstatecode       316\n",
       "loccityid         3591\n",
       "dtype: int64"
      ]
     },
     "execution_count": 5,
     "metadata": {},
     "output_type": "execute_result"
    }
   ],
   "source": [
    "# Count unique values for each column\n",
    "unique_counts = filtered_df.nunique()\n",
    "print(unique_counts)\n",
    "\n",
    "df[['loccountrycode', 'locstatecode', 'loccityid']].nunique()"
   ]
  },
  {
   "cell_type": "code",
   "execution_count": null,
   "metadata": {},
   "outputs": [],
   "source": []
  }
 ],
 "metadata": {
  "kernelspec": {
   "display_name": "preprocessing-wls2",
   "language": "python",
   "name": "python3"
  },
  "language_info": {
   "codemirror_mode": {
    "name": "ipython",
    "version": 3
   },
   "file_extension": ".py",
   "mimetype": "text/x-python",
   "name": "python",
   "nbconvert_exporter": "python",
   "pygments_lexer": "ipython3",
   "version": "3.12.8"
  }
 },
 "nbformat": 4,
 "nbformat_minor": 2
}
